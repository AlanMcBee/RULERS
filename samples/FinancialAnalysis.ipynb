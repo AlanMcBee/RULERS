{
 "cells": [
  {
   "cell_type": "markdown",
   "metadata": {},
   "source": [
    "# RuleOne Financial Analysis Notebook\n",
    "\n",
    "This notebook demonstrates querying SEC EDGAR data from SQLite and visualizing financial metrics using Plotly.NET."
   ]
  },
  {
   "cell_type": "code",
   "execution_count": null,
   "metadata": {
    "dotnet_interactive": {
     "language": "fsharp"
    }
   },
   "outputs": [],
   "source": [
    "#r \"nuget: Plotly.NET, 5.0.0\"\n",
    "#r \"nuget: Plotly.NET.Interactive, 5.0.0\"\n",
    "#r \"nuget: Microsoft.Data.Sqlite, 9.0.0\"\n",
    "\n",
    "open System\n",
    "open Microsoft.Data.Sqlite\n",
    "open Plotly.NET\n",
    "open Plotly.NET.LayoutObjects"
   ]
  },
  {
   "cell_type": "markdown",
   "metadata": {},
   "source": [
    "## Connect to Database\n",
    "\n",
    "First, let's connect to our RuleOne SQLite database and query some facts."
   ]
  },
  {
   "cell_type": "code",
   "execution_count": null,
   "metadata": {
    "dotnet_interactive": {
     "language": "fsharp"
    }
   },
   "outputs": [],
   "source": [
    "// Database connection\n",
    "let dbPath = \"ruleone.db\"\n",
    "let connectionString = $\"Data Source={dbPath}\"\n",
    "\n",
    "// Helper function to query facts by concept\n",
    "let queryFactsByConcept (concept: string) =\n",
    "    use connection = new SqliteConnection(connectionString)\n",
    "    connection.Open()\n",
    "    \n",
    "    let queryCommand = connection.CreateCommand()\n",
    "    queryCommand.CommandText <- \"SELECT * FROM Facts WHERE Concept LIKE @concept ORDER BY FilingDate ASC\"\n",
    "    queryCommand.Parameters.AddWithValue(\"@concept\", $\"%%{concept}%%\") |> ignore\n",
    "    \n",
    "    use reader = queryCommand.ExecuteReader()\n",
    "    \n",
    "    let results = ResizeArray<_>()\n",
    "    while reader.Read() do\n",
    "        results.Add({|\n",
    "            CIK = reader.GetString(1)\n",
    "            CompanyName = if reader.IsDBNull(2) then \"Unknown\" else reader.GetString(2)\n",
    "            FilingDate = if reader.IsDBNull(3) then \"Unknown\" else reader.GetString(3)\n",
    "            Concept = reader.GetString(5)\n",
    "            Value = if reader.IsDBNull(6) then \"0\" else reader.GetString(6)\n",
    "            Period = if reader.IsDBNull(9) then \"Unknown\" else reader.GetString(9)\n",
    "        |})\n",
    "    \n",
    "    connection.Close()\n",
    "    results |> Seq.toList\n",
    "\n",
    "printfn \"Database helper functions loaded\""
   ]
  },
  {
   "cell_type": "markdown",
   "metadata": {},
   "source": [
    "## Query Revenue Data\n",
    "\n",
    "Let's query revenue data from our database."
   ]
  },
  {
   "cell_type": "code",
   "execution_count": null,
   "metadata": {
    "dotnet_interactive": {
     "language": "fsharp"
    }
   },
   "outputs": [],
   "source": [
    "// Query revenue facts\n",
    "let revenueFacts = queryFactsByConcept \"Revenues\"\n",
    "\n",
    "printfn \"Found %d revenue records\" (List.length revenueFacts)\n",
    "\n",
    "// Display first few records\n",
    "revenueFacts \n",
    "|> List.truncate 5\n",
    "|> List.iter (fun fact -> \n",
    "    printfn \"%s - %s: $%s\" fact.CompanyName fact.Period fact.Value)"
   ]
  },
  {
   "cell_type": "markdown",
   "metadata": {},
   "source": [
    "## Visualize Revenue Trend\n",
    "\n",
    "Create a line chart showing revenue growth over time."
   ]
  },
  {
   "cell_type": "code",
   "execution_count": null,
   "metadata": {
    "dotnet_interactive": {
     "language": "fsharp"
    }
   },
   "outputs": [],
   "source": [
    "// Prepare data for charting\n",
    "let revenueData = \n",
    "    revenueFacts\n",
    "    |> List.map (fun fact -> \n",
    "        let value = \n",
    "            try \n",
    "                decimal fact.Value / 1_000_000m // Convert to millions\n",
    "            with _ -> 0m\n",
    "        (fact.Period, value))\n",
    "    |> List.sortBy fst\n",
    "\n",
    "let periods = revenueData |> List.map fst\n",
    "let values = revenueData |> List.map snd\n",
    "\n",
    "// Create line chart\n",
    "let revenueChart =\n",
    "    Chart.Line(\n",
    "        x = periods,\n",
    "        y = values,\n",
    "        Name = \"Revenue\"\n",
    "    )\n",
    "    |> Chart.withXAxisStyle(Title = Title.init(\"Period\"))\n",
    "    |> Chart.withYAxisStyle(Title = Title.init(\"Revenue (Millions USD)\"))\n",
    "    |> Chart.withTitle(\"Revenue Growth Trend\")\n",
    "    |> Chart.withSize(1000, 600)\n",
    "\n",
    "revenueChart"
   ]
  },
  {
   "cell_type": "markdown",
   "metadata": {},
   "source": [
    "## Query Earnings Data\n",
    "\n",
    "Let's query net income/earnings data."
   ]
  },
  {
   "cell_type": "code",
   "execution_count": null,
   "metadata": {
    "dotnet_interactive": {
     "language": "fsharp"
    }
   },
   "outputs": [],
   "source": [
    "// Query earnings facts\n",
    "let earningsFacts = queryFactsByConcept \"NetIncome\"\n",
    "\n",
    "printfn \"Found %d earnings records\" (List.length earningsFacts)\n",
    "\n",
    "// Display first few records\n",
    "earningsFacts \n",
    "|> List.truncate 5\n",
    "|> List.iter (fun fact -> \n",
    "    printfn \"%s - %s: $%s\" fact.CompanyName fact.Period fact.Value)"
   ]
  },
  {
   "cell_type": "markdown",
   "metadata": {},
   "source": [
    "## Visualize Revenue and Earnings Together\n",
    "\n",
    "Create a combined chart showing both revenue and earnings trends."
   ]
  },
  {
   "cell_type": "code",
   "execution_count": null,
   "metadata": {
    "dotnet_interactive": {
     "language": "fsharp"
    }
   },
   "outputs": [],
   "source": [
    "// Prepare earnings data\n",
    "let earningsData = \n",
    "    earningsFacts\n",
    "    |> List.map (fun fact -> \n",
    "        let value = \n",
    "            try \n",
    "                decimal fact.Value / 1_000_000m // Convert to millions\n",
    "            with _ -> 0m\n",
    "        (fact.Period, value))\n",
    "    |> List.sortBy fst\n",
    "\n",
    "let earningsPeriods = earningsData |> List.map fst\n",
    "let earningsValues = earningsData |> List.map snd\n",
    "\n",
    "// Create combined chart\n",
    "let combinedChart =\n",
    "    [\n",
    "        Chart.Line(x = periods, y = values, Name = \"Revenue\")\n",
    "        Chart.Line(x = earningsPeriods, y = earningsValues, Name = \"Net Income\")\n",
    "    ]\n",
    "    |> Chart.combine\n",
    "    |> Chart.withXAxisStyle(Title = Title.init(\"Period\"))\n",
    "    |> Chart.withYAxisStyle(Title = Title.init(\"Amount (Millions USD)\"))\n",
    "    |> Chart.withTitle(\"Revenue and Earnings Trend\")\n",
    "    |> Chart.withSize(1000, 600)\n",
    "\n",
    "combinedChart"
   ]
  },
  {
   "cell_type": "markdown",
   "metadata": {},
   "source": [
    "## Calculate Growth Metrics\n",
    "\n",
    "Use the RuleOne Analytics library to calculate CAGR (Compound Annual Growth Rate)."
   ]
  },
  {
   "cell_type": "code",
   "execution_count": null,
   "metadata": {
    "dotnet_interactive": {
     "language": "fsharp"
    }
   },
   "outputs": [],
   "source": [
    "// Load RuleOne Analytics library\n",
    "// Assuming the library is built and accessible\n",
    "// #r \"../../src/RuleOne.Analytics/bin/Debug/net8.0/RuleOne.Analytics.dll\"\n",
    "// open RuleOne.Analytics.FinancialMetrics\n",
    "\n",
    "// Manual CAGR calculation for demonstration\n",
    "let calculateCAGR beginValue endValue years =\n",
    "    if beginValue <= 0m || endValue <= 0m || years <= 0m then\n",
    "        None\n",
    "    else\n",
    "        let ratio = endValue / beginValue\n",
    "        let exponent = 1.0 / (float years)\n",
    "        let cagr = (float ratio) ** exponent - 1.0\n",
    "        Some (cagr * 100.0) // Return as percentage\n",
    "\n",
    "// Calculate revenue CAGR if we have enough data\n",
    "if List.length revenueData >= 2 then\n",
    "    let firstRevenue = revenueData |> List.head |> snd\n",
    "    let lastRevenue = revenueData |> List.last |> snd\n",
    "    let years = decimal (List.length revenueData - 1)\n",
    "    \n",
    "    match calculateCAGR firstRevenue lastRevenue years with\n",
    "    | Some cagr -> printfn \"Revenue CAGR: %.2f%%\" cagr\n",
    "    | None -> printfn \"Unable to calculate CAGR\"\n",
    "else\n",
    "    printfn \"Not enough data to calculate CAGR\""
   ]
  },
  {
   "cell_type": "markdown",
   "metadata": {},
   "source": [
    "## Summary\n",
    "\n",
    "This notebook demonstrates:\n",
    "- Connecting to the RuleOne SQLite database\n",
    "- Querying financial facts (revenue, earnings)\n",
    "- Visualizing trends using Plotly.NET\n",
    "- Calculating growth metrics (CAGR)\n",
    "\n",
    "To use this notebook:\n",
    "1. First run the ETL app to fetch and store SEC data: `dotnet run --project src/RuleOne.ETL 0000789019 10-K`\n",
    "2. Open this notebook in Jupyter or Visual Studio Code with .NET Interactive\n",
    "3. Execute cells sequentially to analyze the data"
   ]
  }
 ],
 "metadata": {
  "kernelspec": {
   "display_name": ".NET (F#)",
   "language": "F#",
   "name": ".net-fsharp"
  },
  "language_info": {
   "name": "F#"
  }
 },
 "nbformat": 4,
 "nbformat_minor": 2
}
